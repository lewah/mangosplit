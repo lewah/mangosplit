{
 "cells": [
  {
   "cell_type": "markdown",
   "metadata": {},
   "source": [
    "![Alt text](https://miro.medium.com/v2/resize:fit:960/0*puClFxWSP4buuk08.gif \"a title\")"
   ]
  },
  {
   "cell_type": "code",
   "execution_count": 2,
   "metadata": {},
   "outputs": [
    {
     "name": "stdout",
     "output_type": "stream",
     "text": [
      "Intel MKL WARNING: Support of Intel(R) Streaming SIMD Extensions 4.2 (Intel(R) SSE4.2) enabled only processors has been deprecated. Intel oneAPI Math Kernel Library 2025.0 will require Intel(R) Advanced Vector Extensions (Intel(R) AVX) instructions.\n",
      "Intel MKL WARNING: Support of Intel(R) Streaming SIMD Extensions 4.2 (Intel(R) SSE4.2) enabled only processors has been deprecated. Intel oneAPI Math Kernel Library 2025.0 will require Intel(R) Advanced Vector Extensions (Intel(R) AVX) instructions.\n"
     ]
    }
   ],
   "source": [
    "# packages\n",
    "import pandas as pd # for data processing\n",
    "import seaborn as sns # for visualisation "
   ]
  },
  {
   "cell_type": "code",
   "execution_count": 3,
   "metadata": {},
   "outputs": [
    {
     "data": {
      "text/html": [
       "<div>\n",
       "<style scoped>\n",
       "    .dataframe tbody tr th:only-of-type {\n",
       "        vertical-align: middle;\n",
       "    }\n",
       "\n",
       "    .dataframe tbody tr th {\n",
       "        vertical-align: top;\n",
       "    }\n",
       "\n",
       "    .dataframe thead th {\n",
       "        text-align: right;\n",
       "    }\n",
       "</style>\n",
       "<table border=\"1\" class=\"dataframe\">\n",
       "  <thead>\n",
       "    <tr style=\"text-align: right;\">\n",
       "      <th></th>\n",
       "      <th>type</th>\n",
       "      <th>title</th>\n",
       "      <th>director</th>\n",
       "      <th>cast</th>\n",
       "      <th>country</th>\n",
       "      <th>date_added</th>\n",
       "      <th>release_year</th>\n",
       "      <th>rating</th>\n",
       "      <th>duration</th>\n",
       "      <th>listed_in</th>\n",
       "      <th>description</th>\n",
       "    </tr>\n",
       "  </thead>\n",
       "  <tbody>\n",
       "    <tr>\n",
       "      <th>0</th>\n",
       "      <td>Movie</td>\n",
       "      <td>Dick Johnson Is Dead</td>\n",
       "      <td>Kirsten Johnson</td>\n",
       "      <td>Unknown</td>\n",
       "      <td>United States</td>\n",
       "      <td>September 25, 2021</td>\n",
       "      <td>2020</td>\n",
       "      <td>PG-13</td>\n",
       "      <td>90 min</td>\n",
       "      <td>Documentaries</td>\n",
       "      <td>As her father nears the end of his life, filmm...</td>\n",
       "    </tr>\n",
       "    <tr>\n",
       "      <th>1</th>\n",
       "      <td>Movie</td>\n",
       "      <td>The Starling</td>\n",
       "      <td>Theodore Melfi</td>\n",
       "      <td>Melissa McCarthy, Chris O'Dowd, Kevin Kline, T...</td>\n",
       "      <td>United States</td>\n",
       "      <td>September 24, 2021</td>\n",
       "      <td>2021</td>\n",
       "      <td>PG-13</td>\n",
       "      <td>104 min</td>\n",
       "      <td>Comedies, Dramas</td>\n",
       "      <td>A woman adjusting to life after a loss contend...</td>\n",
       "    </tr>\n",
       "    <tr>\n",
       "      <th>2</th>\n",
       "      <td>TV Show</td>\n",
       "      <td>On the Verge</td>\n",
       "      <td>Unknown</td>\n",
       "      <td>Julie Delpy, Elisabeth Shue, Sarah Jones, Alex...</td>\n",
       "      <td>France, United States</td>\n",
       "      <td>September 7, 2021</td>\n",
       "      <td>2021</td>\n",
       "      <td>TV-MA</td>\n",
       "      <td>1 Season</td>\n",
       "      <td>TV Comedies, TV Dramas</td>\n",
       "      <td>Four women — a chef, a single mom, an heiress ...</td>\n",
       "    </tr>\n",
       "    <tr>\n",
       "      <th>3</th>\n",
       "      <td>Movie</td>\n",
       "      <td>Stowaway</td>\n",
       "      <td>Joe Penna</td>\n",
       "      <td>Anna Kendrick, Toni Collette, Daniel Dae Kim, ...</td>\n",
       "      <td>Germany, United States</td>\n",
       "      <td>April 22, 2021</td>\n",
       "      <td>2021</td>\n",
       "      <td>TV-MA</td>\n",
       "      <td>116 min</td>\n",
       "      <td>Dramas, International Movies, Thrillers</td>\n",
       "      <td>A three-person crew on a mission to Mars faces...</td>\n",
       "    </tr>\n",
       "    <tr>\n",
       "      <th>4</th>\n",
       "      <td>Movie</td>\n",
       "      <td>Wild Dog</td>\n",
       "      <td>Ahishor Solomon</td>\n",
       "      <td>Nagarjuna Akkineni, Dia Mirza, Saiyami Kher, A...</td>\n",
       "      <td>Unknown</td>\n",
       "      <td>April 22, 2021</td>\n",
       "      <td>2020</td>\n",
       "      <td>TV-MA</td>\n",
       "      <td>126 min</td>\n",
       "      <td>Action &amp; Adventure, International Movies</td>\n",
       "      <td>A brash but brilliant Indian intelligence agen...</td>\n",
       "    </tr>\n",
       "  </tbody>\n",
       "</table>\n",
       "</div>"
      ],
      "text/plain": [
       "      type                 title         director  \\\n",
       "0    Movie  Dick Johnson Is Dead  Kirsten Johnson   \n",
       "1    Movie          The Starling   Theodore Melfi   \n",
       "2  TV Show          On the Verge          Unknown   \n",
       "3    Movie              Stowaway        Joe Penna   \n",
       "4    Movie              Wild Dog  Ahishor Solomon   \n",
       "\n",
       "                                                cast                 country  \\\n",
       "0                                            Unknown           United States   \n",
       "1  Melissa McCarthy, Chris O'Dowd, Kevin Kline, T...           United States   \n",
       "2  Julie Delpy, Elisabeth Shue, Sarah Jones, Alex...   France, United States   \n",
       "3  Anna Kendrick, Toni Collette, Daniel Dae Kim, ...  Germany, United States   \n",
       "4  Nagarjuna Akkineni, Dia Mirza, Saiyami Kher, A...                 Unknown   \n",
       "\n",
       "           date_added  release_year rating  duration  \\\n",
       "0  September 25, 2021          2020  PG-13    90 min   \n",
       "1  September 24, 2021          2021  PG-13   104 min   \n",
       "2   September 7, 2021          2021  TV-MA  1 Season   \n",
       "3      April 22, 2021          2021  TV-MA   116 min   \n",
       "4      April 22, 2021          2020  TV-MA   126 min   \n",
       "\n",
       "                                  listed_in  \\\n",
       "0                             Documentaries   \n",
       "1                          Comedies, Dramas   \n",
       "2                    TV Comedies, TV Dramas   \n",
       "3   Dramas, International Movies, Thrillers   \n",
       "4  Action & Adventure, International Movies   \n",
       "\n",
       "                                         description  \n",
       "0  As her father nears the end of his life, filmm...  \n",
       "1  A woman adjusting to life after a loss contend...  \n",
       "2  Four women — a chef, a single mom, an heiress ...  \n",
       "3  A three-person crew on a mission to Mars faces...  \n",
       "4  A brash but brilliant Indian intelligence agen...  "
      ]
     },
     "execution_count": 3,
     "metadata": {},
     "output_type": "execute_result"
    }
   ],
   "source": [
    "netflix_data = pd.read_csv(\"dataset/cleaned_netflix_data.csv\")\n",
    "netflix_data.head()"
   ]
  },
  {
   "cell_type": "code",
   "execution_count": 24,
   "metadata": {},
   "outputs": [
    {
     "data": {
      "text/plain": [
       "Index(['type', 'title', 'director', 'cast', 'country', 'date_added',\n",
       "       'release_year', 'rating', 'duration', 'listed_in', 'description'],\n",
       "      dtype='object')"
      ]
     },
     "execution_count": 24,
     "metadata": {},
     "output_type": "execute_result"
    }
   ],
   "source": [
    "netflix_data.columns"
   ]
  },
  {
   "cell_type": "code",
   "execution_count": 25,
   "metadata": {},
   "outputs": [
    {
     "data": {
      "text/plain": [
       "type            0\n",
       "title           0\n",
       "director        0\n",
       "cast            0\n",
       "country         0\n",
       "date_added      0\n",
       "release_year    0\n",
       "rating          0\n",
       "duration        0\n",
       "listed_in       0\n",
       "description     0\n",
       "dtype: int64"
      ]
     },
     "execution_count": 25,
     "metadata": {},
     "output_type": "execute_result"
    }
   ],
   "source": [
    "netflix_data.isna().sum()"
   ]
  },
  {
   "cell_type": "code",
   "execution_count": 26,
   "metadata": {},
   "outputs": [
    {
     "data": {
      "text/plain": [
       "(8807, 11)"
      ]
     },
     "execution_count": 26,
     "metadata": {},
     "output_type": "execute_result"
    }
   ],
   "source": [
    "# Shape of the dataset\n",
    "netflix_data.shape"
   ]
  },
  {
   "cell_type": "code",
   "execution_count": 27,
   "metadata": {},
   "outputs": [
    {
     "data": {
      "text/plain": [
       "type               2\n",
       "title           8807\n",
       "director        4529\n",
       "cast            7693\n",
       "country          749\n",
       "date_added      1767\n",
       "release_year      74\n",
       "rating            14\n",
       "duration         220\n",
       "listed_in        514\n",
       "description     8775\n",
       "dtype: int64"
      ]
     },
     "execution_count": 27,
     "metadata": {},
     "output_type": "execute_result"
    }
   ],
   "source": [
    "# check non unique values \n",
    "netflix_data.nunique()"
   ]
  },
  {
   "cell_type": "code",
   "execution_count": 28,
   "metadata": {},
   "outputs": [
    {
     "data": {
      "text/plain": [
       "0"
      ]
     },
     "execution_count": 28,
     "metadata": {},
     "output_type": "execute_result"
    }
   ],
   "source": [
    "# check for duplicate values\n",
    "netflix_data.duplicated().sum()"
   ]
  },
  {
   "cell_type": "code",
   "execution_count": 29,
   "metadata": {},
   "outputs": [
    {
     "name": "stdout",
     "output_type": "stream",
     "text": [
      "<class 'pandas.core.frame.DataFrame'>\n",
      "RangeIndex: 8807 entries, 0 to 8806\n",
      "Data columns (total 11 columns):\n",
      " #   Column        Non-Null Count  Dtype \n",
      "---  ------        --------------  ----- \n",
      " 0   type          8807 non-null   object\n",
      " 1   title         8807 non-null   object\n",
      " 2   director      8807 non-null   object\n",
      " 3   cast          8807 non-null   object\n",
      " 4   country       8807 non-null   object\n",
      " 5   date_added    8807 non-null   object\n",
      " 6   release_year  8807 non-null   int64 \n",
      " 7   rating        8807 non-null   object\n",
      " 8   duration      8807 non-null   object\n",
      " 9   listed_in     8807 non-null   object\n",
      " 10  description   8807 non-null   object\n",
      "dtypes: int64(1), object(10)\n",
      "memory usage: 757.0+ KB\n"
     ]
    }
   ],
   "source": [
    "netflix_data.info()"
   ]
  },
  {
   "cell_type": "code",
   "execution_count": 30,
   "metadata": {},
   "outputs": [
    {
     "data": {
      "text/html": [
       "<div>\n",
       "<style scoped>\n",
       "    .dataframe tbody tr th:only-of-type {\n",
       "        vertical-align: middle;\n",
       "    }\n",
       "\n",
       "    .dataframe tbody tr th {\n",
       "        vertical-align: top;\n",
       "    }\n",
       "\n",
       "    .dataframe thead th {\n",
       "        text-align: right;\n",
       "    }\n",
       "</style>\n",
       "<table border=\"1\" class=\"dataframe\">\n",
       "  <thead>\n",
       "    <tr style=\"text-align: right;\">\n",
       "      <th></th>\n",
       "      <th>Variable</th>\n",
       "      <th>Num of unique values</th>\n",
       "      <th>values</th>\n",
       "    </tr>\n",
       "  </thead>\n",
       "  <tbody>\n",
       "    <tr>\n",
       "      <th>0</th>\n",
       "      <td>type</td>\n",
       "      <td>2</td>\n",
       "      <td>[Movie, TV Show]</td>\n",
       "    </tr>\n",
       "    <tr>\n",
       "      <th>1</th>\n",
       "      <td>title</td>\n",
       "      <td>8807</td>\n",
       "      <td>[Dick Johnson Is Dead, The Starling, On the Ve...</td>\n",
       "    </tr>\n",
       "    <tr>\n",
       "      <th>2</th>\n",
       "      <td>director</td>\n",
       "      <td>4529</td>\n",
       "      <td>[Kirsten Johnson, Theodore Melfi, Unknown, Joe...</td>\n",
       "    </tr>\n",
       "    <tr>\n",
       "      <th>3</th>\n",
       "      <td>cast</td>\n",
       "      <td>7693</td>\n",
       "      <td>[Unknown, Melissa McCarthy, Chris O'Dowd, Kevi...</td>\n",
       "    </tr>\n",
       "    <tr>\n",
       "      <th>4</th>\n",
       "      <td>country</td>\n",
       "      <td>749</td>\n",
       "      <td>[United States, France, United States, Germany...</td>\n",
       "    </tr>\n",
       "    <tr>\n",
       "      <th>5</th>\n",
       "      <td>date_added</td>\n",
       "      <td>1767</td>\n",
       "      <td>[September 25, 2021, September 24, 2021, Septe...</td>\n",
       "    </tr>\n",
       "    <tr>\n",
       "      <th>6</th>\n",
       "      <td>release_year</td>\n",
       "      <td>74</td>\n",
       "      <td>[2020, 2021, 2015, 2013, 2018, 2017, 2019, 201...</td>\n",
       "    </tr>\n",
       "    <tr>\n",
       "      <th>7</th>\n",
       "      <td>rating</td>\n",
       "      <td>14</td>\n",
       "      <td>[PG-13, TV-MA, TV-14, TV-Y, TV-Y7, R, PG, TV-P...</td>\n",
       "    </tr>\n",
       "    <tr>\n",
       "      <th>8</th>\n",
       "      <td>duration</td>\n",
       "      <td>220</td>\n",
       "      <td>[90 min, 104 min, 1 Season, 116 min, 126 min, ...</td>\n",
       "    </tr>\n",
       "    <tr>\n",
       "      <th>9</th>\n",
       "      <td>listed_in</td>\n",
       "      <td>514</td>\n",
       "      <td>[Documentaries, Comedies, Dramas, TV Comedies,...</td>\n",
       "    </tr>\n",
       "    <tr>\n",
       "      <th>10</th>\n",
       "      <td>description</td>\n",
       "      <td>8775</td>\n",
       "      <td>[As her father nears the end of his life, film...</td>\n",
       "    </tr>\n",
       "  </tbody>\n",
       "</table>\n",
       "</div>"
      ],
      "text/plain": [
       "        Variable  Num of unique values  \\\n",
       "0           type                     2   \n",
       "1          title                  8807   \n",
       "2       director                  4529   \n",
       "3           cast                  7693   \n",
       "4        country                   749   \n",
       "5     date_added                  1767   \n",
       "6   release_year                    74   \n",
       "7         rating                    14   \n",
       "8       duration                   220   \n",
       "9      listed_in                   514   \n",
       "10   description                  8775   \n",
       "\n",
       "                                               values  \n",
       "0                                    [Movie, TV Show]  \n",
       "1   [Dick Johnson Is Dead, The Starling, On the Ve...  \n",
       "2   [Kirsten Johnson, Theodore Melfi, Unknown, Joe...  \n",
       "3   [Unknown, Melissa McCarthy, Chris O'Dowd, Kevi...  \n",
       "4   [United States, France, United States, Germany...  \n",
       "5   [September 25, 2021, September 24, 2021, Septe...  \n",
       "6   [2020, 2021, 2015, 2013, 2018, 2017, 2019, 201...  \n",
       "7   [PG-13, TV-MA, TV-14, TV-Y, TV-Y7, R, PG, TV-P...  \n",
       "8   [90 min, 104 min, 1 Season, 116 min, 126 min, ...  \n",
       "9   [Documentaries, Comedies, Dramas, TV Comedies,...  \n",
       "10  [As her father nears the end of his life, film...  "
      ]
     },
     "execution_count": 30,
     "metadata": {},
     "output_type": "execute_result"
    }
   ],
   "source": [
    "# understanding variables\n",
    "variables = pd.DataFrame(columns=['Variable','Num of unique values','values'])\n",
    "\n",
    "for i,var in enumerate(netflix_data.columns):\n",
    "    variables.loc[i] = [var,netflix_data[var].nunique(),netflix_data[var].unique().tolist()]\n",
    "\n",
    "variables"
   ]
  },
  {
   "cell_type": "code",
   "execution_count": null,
   "metadata": {},
   "outputs": [],
   "source": [
    "netflix_data['title'].unique()"
   ]
  }
 ],
 "metadata": {
  "kernelspec": {
   "display_name": "netflix",
   "language": "python",
   "name": "python3"
  },
  "language_info": {
   "codemirror_mode": {
    "name": "ipython",
    "version": 3
   },
   "file_extension": ".py",
   "mimetype": "text/x-python",
   "name": "python",
   "nbconvert_exporter": "python",
   "pygments_lexer": "ipython3",
   "version": "3.11.5"
  },
  "orig_nbformat": 4
 },
 "nbformat": 4,
 "nbformat_minor": 2
}
